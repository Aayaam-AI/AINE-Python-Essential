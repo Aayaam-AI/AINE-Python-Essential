{
 "cells": [
  {
   "cell_type": "markdown",
   "metadata": {},
   "source": [
    "# Rock, Paper, Scissors game!!!"
   ]
  },
  {
   "cell_type": "markdown",
   "metadata": {},
   "source": [
    "### We will implement a rock paper scissors game where user will select one of the options from rock, paper or scissors and same thing will be done by our system and the standard rules will decide which side wins."
   ]
  },
  {
   "cell_type": "code",
   "execution_count": null,
   "metadata": {},
   "outputs": [],
   "source": [
    "# Lets make necessary imports\n",
    "from random import randint"
   ]
  },
  {
   "cell_type": "code",
   "execution_count": null,
   "metadata": {},
   "outputs": [],
   "source": [
    "# we allow user to enter number of rounds as they desire\n",
    "rounds = int(input(\"Enter desired number of rounds \\n\"))"
   ]
  },
  {
   "cell_type": "code",
   "execution_count": null,
   "metadata": {},
   "outputs": [],
   "source": [
    "# List to store available options\n",
    "opt = [\"Rock\", \"Paper\", \"Scissors\"]"
   ]
  },
  {
   "cell_type": "markdown",
   "metadata": {},
   "source": [
    "### User will input any one value out of - (Rock, Paper, Scissors)"
   ]
  },
  {
   "cell_type": "code",
   "execution_count": null,
   "metadata": {},
   "outputs": [],
   "source": [
    "# Start the rounds\n",
    "for i in range(rounds):\n",
    "    print(\"\\n\")\n",
    "    \n",
    "    # Player inputs the desired choice\n",
    "    player = input(\"Your turn! \\n\")\n",
    "    if player not in opt:\n",
    "        print(\"Invalid choice.please check spelling \\n\")\n",
    "        continue;\n",
    "        \n",
    "    # Computer make a random choice from list\n",
    "    computer = opt[randint(0, 2)]; # randint() selects from range randomly\n",
    "    \n",
    "    # If else checks according to standard game algorithm\n",
    "    if player == computer:\n",
    "        print(\"Its a Tie!\")\n",
    "    elif player == \"Rock\":\n",
    "        if computer == \"Paper\":\n",
    "            print(\"You lose!\", computer, \"covers\", player)\n",
    "        else:\n",
    "            print(\"You win!\", player, \"smashes\", computer)\n",
    "    elif player == \"Paper\":\n",
    "        if computer == \"Scissors\":\n",
    "            print(\"You lose!\", computer, \"cut\", player)\n",
    "        else:\n",
    "            print(\"You win!\", player, \"covers\", computer)\n",
    "    elif player == \"Scissors\":\n",
    "        if computer == \"Rock\":\n",
    "            print(\"You lose...\", computer, \"smashes\", player)\n",
    "        else:\n",
    "            print(\"You win!\", player, \"cut\", computer)\n",
    "            \n",
    "print(\"\\n Game Over\")\n",
    "print(\"\\n Phew..., That was intense!!!\")"
   ]
  },
  {
   "cell_type": "markdown",
   "metadata": {},
   "source": [
    "## Thanks for playing"
   ]
  },
  {
   "cell_type": "code",
   "execution_count": null,
   "metadata": {},
   "outputs": [],
   "source": []
  }
 ],
 "metadata": {
  "kernelspec": {
   "display_name": "Python 3",
   "language": "python",
   "name": "python3"
  },
  "language_info": {
   "codemirror_mode": {
    "name": "ipython",
    "version": 3
   },
   "file_extension": ".py",
   "mimetype": "text/x-python",
   "name": "python",
   "nbconvert_exporter": "python",
   "pygments_lexer": "ipython3",
   "version": "3.7.3"
  }
 },
 "nbformat": 4,
 "nbformat_minor": 2
}
